{
 "cells": [
  {
   "cell_type": "code",
   "execution_count": 1,
   "metadata": {},
   "outputs": [
    {
     "name": "stdout",
     "output_type": "stream",
     "text": [
      "(60000, 10)\n"
     ]
    }
   ],
   "source": [
    "import struct\n",
    "import numpy as np\n",
    "import os\n",
    "from sklearn.metrics import accuracy_score\n",
    "\n",
    "np.random.seed(0)\n",
    "\n",
    "def read_file(folder_name: str) -> dict:\n",
    "    \"\"\"\n",
    "    此函数从文件夹下读取所有形如idxn-ubyte的数据文件.\n",
    "    :param folder_name: 文件夹字符串名.\n",
    "    :return: 包含所有以文件名（不含后缀名）为key，ndarray为value的字典.\n",
    "    \"\"\"\n",
    "    # 检查输入的文件夹是否存在，是否可读\n",
    "    if not os.path.exists(folder_name):\n",
    "        raise FileNotFoundError(f\"Folder doesn't exists: {folder_name}\")\n",
    "    if not os.access(folder_name, os.R_OK):\n",
    "        raise PermissionError(f\"Folder not readable: {folder_name}\")\n",
    "\n",
    "    return_dict = {}\n",
    "    for elements in os.scandir(folder_name):\n",
    "        if elements.is_file():\n",
    "            with open(elements.path, 'rb') as file:\n",
    "                magic, size = struct.unpack('>II', file.read(8))\n",
    "                dimension = magic & 0xFF  # 使用位运算获取存储数据的维数\n",
    "                lengths = (size,) + struct.unpack(f\">{dimension - 1}I\",\n",
    "                                                  file.read((dimension - 1) * 4))  #定义期望得到的ndarray结构\n",
    "                data_temp = np.fromfile(file, dtype=np.uint8).reshape(lengths)  # 读取二进制文件并重整成正确的结构\n",
    "                return_dict[os.path.splitext(elements.name)[0]] = data_temp\n",
    "    return return_dict\n",
    "\n",
    "\n",
    "# 读取数据\n",
    "files = read_file('./dataset')\n",
    "import lyutorch as lyu\n",
    "img_train = lyu.tensor(files['train-images'] * 2 / 255 - 1, dtype=np.float32)\n",
    "img_test = lyu.tensor(files['t10k-images'] * 2 / 255 - 1, dtype=np.float32)\n",
    "label_train = lyu.tensor(files['train-labels'], dtype=np.int8)\n",
    "label_test = lyu.tensor(files['t10k-labels'], dtype=np.int8)\n",
    "\n",
    "# 将数据变成 one-hot 编码\n",
    "one_hot_matrix = np.eye(10)\n",
    "label_train = lyu.tensor(one_hot_matrix[label_train.flatten()].reshape(-1,10).squeeze())\n",
    "label_test = lyu.tensor(one_hot_matrix[label_test.flatten()].reshape(-1,10).squeeze())\n",
    "\n",
    "print(label_train.shape)\n",
    "import lyutorch.nn as nn\n",
    "\n",
    "\n",
    "class Net(nn.Module):\n",
    "    def __init__(self, hidden_layer_size: int = 64):\n",
    "        super(Net, self).__init__()\n",
    "        self._hidden = hidden_layer_size\n",
    "        self.fc1 = lyu.tensor(np.random.normal(size=(28 * 28, hidden_layer_size)), requires_grad=True)\n",
    "        self.fc2 = lyu.tensor(np.random.normal(size=(hidden_layer_size, 10)), requires_grad=True)\n",
    "        self.bias1 = lyu.tensor(np.random.normal(size=(1, hidden_layer_size)), requires_grad=True)\n",
    "        self.bias2 = lyu.tensor(np.random.normal(size=(1, 10)), requires_grad=True)\n",
    "        self.add_parameter('fc1', self.fc1)\n",
    "        self.add_parameter('fc2', self.fc2)\n",
    "        self.add_parameter('bias1', self.bias1)\n",
    "        self.add_parameter('bias2', self.bias2)\n",
    "        self.target = lyu.tensor(np.eye(10))\n",
    "\n",
    "    def forward(self, x):\n",
    "        x = x @ self.fc1\n",
    "        x = x + self.bias1\n",
    "        x = nn.functional.relu(x)\n",
    "        x = x @ self.fc2\n",
    "        x = x + self.bias2\n",
    "        x = nn.functional.softmax(x, self.target)\n",
    "        return x\n",
    "\n",
    "    def l2normalization(self):\n",
    "        return (lyu.linalg.norm2(self.fc1, order=2) + lyu.linalg.norm2(self.fc2, order=2) + lyu.linalg.norm2(\n",
    "            self.bias1, order=2) + lyu.linalg.norm2(self.bias2, order=2)) * lyu.tensor(\n",
    "            1 / (28 * 28 * self._hidden + self._hidden * 10 + 10 + self._hidden))\n",
    "\n",
    "    def grad_off(self):\n",
    "        for key, value in self.parameters():\n",
    "            value.requires_grad = False\n",
    "\n",
    "    def grad_on(self):\n",
    "        for key, value in self.parameters():\n",
    "            value.requires_grad = True\n",
    "\n",
    "\n",
    "img_train = img_train.reshape((60000, 28 * 28))\n",
    "img_test = img_test.reshape((10000, 28 * 28))\n",
    "# 创建网络实例\n",
    "net = Net(hidden_layer_size=32)\n",
    "sgd = nn.Optimizer(net.parameters(), lr=0.01)\n",
    "sgd.zero_grad()\n",
    "losses32 = []\n",
    "BATCH_SIZE = 32\n",
    "data = nn.DataLoader([img_train, label_train], shuffle=True, batch_size=BATCH_SIZE)\n",
    "batch = 0\n",
    "size = len(img_train)\n",
    "for epochs in range(5):\n",
    "    for data_train in data:\n",
    "        sgd.zero_grad()\n",
    "        img = data_train[0]\n",
    "        label = data_train[1]\n",
    "        output = net(img)\n",
    "        loss = nn.functional.cross_entropy_loss(output, label) + lyu.tensor(100) * net.l2normalization()\n",
    "        loss.backward()\n",
    "        sgd.step()\n",
    "        batch += 1\n",
    "        losses32.append(loss.item())\n",
    "        if batch % 100 == 0:\n",
    "            print(f\"loss: {loss:>7f}  [{batch * BATCH_SIZE:>5d}/{size:>5d}]\")\n",
    "    with lyu.no_grad():\n",
    "        output = net(img_test)\n",
    "        output = np.argmax(output,axis=1)\n",
    "        label = np.argmax(label_test,axis=1)\n",
    "        accuracy = accuracy_score(output, label)\n",
    "        print(f\"The accuracy on epoch {epochs} is {100*accuracy}%\")\n",
    "    "
   ]
  },
  {
   "cell_type": "code",
   "execution_count": 3,
   "metadata": {},
   "outputs": [],
   "source": [
    "np.save(\"./data/losses32_100nm.npy\", losses32)"
   ]
  },
  {
   "cell_type": "code",
   "execution_count": 4,
   "metadata": {},
   "outputs": [
    {
     "name": "stdout",
     "output_type": "stream",
     "text": [
      "The accuracy on epoch 4 is 78.56%\n"
     ]
    }
   ],
   "source": [
    "with lyu.no_grad():\n",
    "    output = net(img_test)\n",
    "    output = np.argmax(output, axis=1)\n",
    "    label = np.argmax(label_test, axis=1)\n",
    "    accuracy = accuracy_score(output, label)\n",
    "    print(f\"The accuracy on epoch {epochs} is {100*accuracy}%\")"
   ]
  }
 ],
 "metadata": {
  "kernelspec": {
   "display_name": "Python 3 (ipykernel)",
   "language": "python",
   "name": "python3"
  },
  "language_info": {
   "codemirror_mode": {
    "name": "ipython",
    "version": 3
   },
   "file_extension": ".py",
   "mimetype": "text/x-python",
   "name": "python",
   "nbconvert_exporter": "python",
   "pygments_lexer": "ipython3",
   "version": "3.10.6"
  }
 },
 "nbformat": 4,
 "nbformat_minor": 2
}
