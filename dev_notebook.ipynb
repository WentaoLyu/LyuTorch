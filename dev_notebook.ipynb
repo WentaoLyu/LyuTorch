{
 "cells": [
  {
   "cell_type": "code",
   "execution_count": 1,
   "metadata": {},
   "outputs": [],
   "source": [
    "%load_ext autoreload\n",
    "%autoreload 2"
   ]
  },
  {
   "cell_type": "code",
   "execution_count": 37,
   "metadata": {},
   "outputs": [
    {
     "ename": "TypeError",
     "evalue": "draw_networkx_nodes() got an unexpected keyword argument 'font_weight'",
     "output_type": "error",
     "traceback": [
      "\u001b[0;31m---------------------------------------------------------------------------\u001b[0m",
      "\u001b[0;31mTypeError\u001b[0m                                 Traceback (most recent call last)",
      "Cell \u001b[0;32mIn[37], line 30\u001b[0m\n\u001b[1;32m     27\u001b[0m pos \u001b[38;5;241m=\u001b[39m nx\u001b[38;5;241m.\u001b[39mspring_layout(lyu\u001b[38;5;241m.\u001b[39mVariables\u001b[38;5;241m.\u001b[39mtensor\u001b[38;5;241m.\u001b[39mtape\u001b[38;5;241m.\u001b[39mG)\n\u001b[1;32m     29\u001b[0m \u001b[38;5;66;03m# 绘制图形\u001b[39;00m\n\u001b[0;32m---> 30\u001b[0m \u001b[43mnx\u001b[49m\u001b[38;5;241;43m.\u001b[39;49m\u001b[43mdraw_networkx_nodes\u001b[49m\u001b[43m(\u001b[49m\u001b[43mlyu\u001b[49m\u001b[38;5;241;43m.\u001b[39;49m\u001b[43mVariables\u001b[49m\u001b[38;5;241;43m.\u001b[39;49m\u001b[43mtensor\u001b[49m\u001b[38;5;241;43m.\u001b[39;49m\u001b[43mtape\u001b[49m\u001b[38;5;241;43m.\u001b[39;49m\u001b[43mG\u001b[49m\u001b[43m,\u001b[49m\u001b[43m \u001b[49m\u001b[43mpos\u001b[49m\u001b[43m,\u001b[49m\u001b[43m \u001b[49m\u001b[38;5;241;43m*\u001b[39;49m\u001b[38;5;241;43m*\u001b[39;49m\u001b[43mnode_options\u001b[49m\u001b[43m)\u001b[49m\n\u001b[1;32m     31\u001b[0m nx\u001b[38;5;241m.\u001b[39mdraw_networkx_labels(lyu\u001b[38;5;241m.\u001b[39mVariables\u001b[38;5;241m.\u001b[39mtensor\u001b[38;5;241m.\u001b[39mtape\u001b[38;5;241m.\u001b[39mG, pos, \u001b[38;5;241m*\u001b[39m\u001b[38;5;241m*\u001b[39mnode_options)\n\u001b[1;32m     32\u001b[0m nx\u001b[38;5;241m.\u001b[39mdraw_networkx_edges(lyu\u001b[38;5;241m.\u001b[39mVariables\u001b[38;5;241m.\u001b[39mtensor\u001b[38;5;241m.\u001b[39mtape\u001b[38;5;241m.\u001b[39mG, pos, \u001b[38;5;241m*\u001b[39m\u001b[38;5;241m*\u001b[39medge_options)\n",
      "\u001b[0;31mTypeError\u001b[0m: draw_networkx_nodes() got an unexpected keyword argument 'font_weight'"
     ]
    }
   ],
   "source": [
    "import lyutorch as lyu\n",
    "import networkx as nx\n",
    "lyu.Variables.tensor.tape.clear()\n",
    "a  = lyu.tensor([[1,2,3]],requires_grad=True)\n",
    "b = lyu.tensor([[4,5,6]],requires_grad=True)\n",
    "c = a @ b.t() * a\n",
    "c = c @ c.t()\n",
    "c = lyu.squeeze(c)\n",
    "import matplotlib.pyplot as plt\n",
    "\n",
    "# 定义节点和边的样式\n",
    "node_options = {\n",
    "    \"node_color\": \"black\",\n",
    "    \"node_size\": 100,\n",
    "    \"linewidths\": 0,\n",
    "    \"with_labels\": True,\n",
    "    \"font_weight\": 'bold',\n",
    "    \"font_color\": \"white\",\n",
    "}\n",
    "\n",
    "edge_options = {\n",
    "    \"edge_color\": \"gray\",\n",
    "    \"alpha\": 0.5,  # 设置边的透明度\n",
    "    \"width\": 0.1,\n",
    "}\n",
    "\n",
    "# 获取节点位置\n",
    "pos = nx.spring_layout(lyu.Variables.tensor.tape.G)\n",
    "\n",
    "# 绘制图形\n",
    "nx.draw_networkx_nodes(lyu.Variables.tensor.tape.G, pos, **node_options)\n",
    "nx.draw_networkx_labels(lyu.Variables.tensor.tape.G, pos, **node_options)\n",
    "nx.draw_networkx_edges(lyu.Variables.tensor.tape.G, pos, **edge_options)\n",
    "\n",
    "plt.show()"
   ]
  }
 ],
 "metadata": {
  "kernelspec": {
   "display_name": "Python 3 (ipykernel)",
   "language": "python",
   "name": "python3"
  },
  "language_info": {
   "codemirror_mode": {
    "name": "ipython",
    "version": 3
   },
   "file_extension": ".py",
   "mimetype": "text/x-python",
   "name": "python",
   "nbconvert_exporter": "python",
   "pygments_lexer": "ipython3",
   "version": "3.10.6"
  }
 },
 "nbformat": 4,
 "nbformat_minor": 2
}
