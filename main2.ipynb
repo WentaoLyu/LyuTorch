{
 "cells": [
  {
   "cell_type": "code",
   "execution_count": 1,
   "metadata": {},
   "outputs": [],
   "source": [
    "%load_ext autoreload\n",
    "%autoreload 2"
   ]
  },
  {
   "cell_type": "code",
   "execution_count": 2,
   "metadata": {},
   "outputs": [],
   "source": [
    "import struct\n",
    "import numpy as np\n",
    "import os\n",
    "\n",
    "def read_file(folder_name: str) -> dict:\n",
    "    \"\"\"\n",
    "    此函数从文件夹下读取所有形如idxn-ubyte的数据文件.\n",
    "    :param folder_name: 文件夹字符串名.\n",
    "    :return: 包含所有以文件名（不含后缀名）为key，ndarray为value的字典.\n",
    "    \"\"\"\n",
    "    # 检查输入的文件夹是否存在，是否可读\n",
    "    if not os.path.exists(folder_name):\n",
    "        raise FileNotFoundError(f\"Folder doesn't exists: {folder_name}\")\n",
    "    if not os.access(folder_name, os.R_OK):\n",
    "        raise PermissionError(f\"Folder not readable: {folder_name}\")\n",
    "\n",
    "    return_dict = {}\n",
    "    for elements in os.scandir(folder_name):\n",
    "        if elements.is_file():\n",
    "            with open(elements.path, 'rb') as file:\n",
    "                magic, size = struct.unpack('>II', file.read(8))\n",
    "                dimension = magic & 0xFF  # 使用位运算获取存储数据的维数\n",
    "                lengths = (size,) + struct.unpack(f\">{dimension - 1}I\",\n",
    "                                                  file.read((dimension - 1) * 4))  #定义期望得到的ndarray结构\n",
    "                data_temp = np.fromfile(file, dtype=np.uint8).reshape(lengths)  # 读取二进制文件并重整成正确的结构\n",
    "                return_dict[os.path.splitext(elements.name)[0]] = data_temp\n",
    "    return return_dict\n",
    "\n",
    "\n",
    "# 读取数据\n",
    "files = read_file('./dataset')"
   ]
  },
  {
   "cell_type": "code",
   "execution_count": 3,
   "metadata": {},
   "outputs": [
    {
     "name": "stdout",
     "output_type": "stream",
     "text": [
      "(60000, 10)\n"
     ]
    }
   ],
   "source": [
    "import lyutorch as lyu\n",
    "img_train = lyu.tensor(files['train-images'] * 2 / 255 - 1, dtype=np.float32)\n",
    "img_test = lyu.tensor(files['t10k-images'] * 2 / 255 - 1, dtype=np.float32)\n",
    "label_train = lyu.tensor(files['train-labels'], dtype=np.int8)\n",
    "label_test = lyu.tensor(files['t10k-labels'], dtype=np.int8)\n",
    "\n",
    "# 将数据变成 one-hot 编码\n",
    "one_hot_matrix = np.eye(10)\n",
    "label_train = lyu.tensor(one_hot_matrix[label_train.flatten()].reshape(-1,10).squeeze())\n",
    "label_test = lyu.tensor(one_hot_matrix[label_test.flatten()].reshape(-1,10).squeeze())\n",
    "\n",
    "print(label_train.shape)"
   ]
  },
  {
   "cell_type": "code",
   "execution_count": 4,
   "metadata": {},
   "outputs": [],
   "source": [
    "import lyutorch.nn as nn\n",
    "\n",
    "\n",
    "class Net(nn.Module):\n",
    "    def __init__(self, hidden_layer_size: int = 64):\n",
    "        super(Net, self).__init__()\n",
    "        self._hidden = hidden_layer_size\n",
    "        self.fc1 = lyu.tensor(np.random.normal(size=(28 * 28, hidden_layer_size)), requires_grad=True)\n",
    "        self.fc2 = lyu.tensor(np.random.normal(size=(hidden_layer_size, 10)), requires_grad=True)\n",
    "        self.bias1 = lyu.tensor(np.random.normal(size=(1, hidden_layer_size)), requires_grad=True)\n",
    "        self.bias2 = lyu.tensor(np.random.normal(size=(1, 10)), requires_grad=True)\n",
    "        self.add_parameter('fc1', self.fc1)\n",
    "        self.add_parameter('fc2', self.fc2)\n",
    "        self.add_parameter('bias1', self.bias1)\n",
    "        self.add_parameter('bias2', self.bias2)\n",
    "        self.target = lyu.tensor(np.eye(10))\n",
    "\n",
    "    def forward(self, x):\n",
    "        x = x @ self.fc1\n",
    "        x = x + self.bias1\n",
    "        x = nn.functional.relu(x)\n",
    "        x = x @ self.fc2\n",
    "        x = x + self.bias2\n",
    "        x = nn.functional.softmax(x, self.target)\n",
    "        return x\n",
    "\n",
    "    def l2normalization(self):\n",
    "        return (lyu.linalg.norm2(self.fc1, order=2) + lyu.linalg.norm2(self.fc2, order=2) + lyu.linalg.norm2(\n",
    "            self.bias1, order=2) + lyu.linalg.norm2(self.bias2, order=2)) * lyu.tensor(\n",
    "            1 / (28 * 28 * self._hidden + self._hidden * 10 + 10 + self._hidden))\n",
    "\n",
    "    def grad_off(self):\n",
    "        for key, value in self.parameters():\n",
    "            value.requires_grad = False\n",
    "\n",
    "    def grad_on(self):\n",
    "        for key, value in self.parameters():\n",
    "            value.requires_grad = True\n",
    "\n",
    "\n",
    "img_train = img_train.reshape((60000, 28 * 28))\n",
    "img_test = img_test.reshape((10000, 28 * 28))\n",
    "# 创建网络实例\n",
    "net = Net(hidden_layer_size=64)"
   ]
  },
  {
   "cell_type": "code",
   "execution_count": 5,
   "metadata": {},
   "outputs": [
    {
     "name": "stdout",
     "output_type": "stream",
     "text": [
      "loss: 6.405772  [ 3200/60000]\n",
      "loss: 2.630795  [ 6400/60000]\n",
      "loss: 3.077320  [ 9600/60000]\n",
      "loss: 1.976012  [12800/60000]\n",
      "loss: 2.406154  [16000/60000]\n",
      "loss: 2.043339  [19200/60000]\n",
      "loss: 2.194631  [22400/60000]\n",
      "loss: 2.164915  [25600/60000]\n",
      "loss: 2.179823  [28800/60000]\n",
      "loss: 1.932908  [32000/60000]\n",
      "loss: 2.207437  [35200/60000]\n",
      "loss: 2.231259  [38400/60000]\n",
      "loss: 2.292315  [41600/60000]\n",
      "loss: 1.791020  [44800/60000]\n",
      "loss: 2.057045  [48000/60000]\n",
      "loss: 2.203714  [51200/60000]\n",
      "loss: 2.013211  [54400/60000]\n",
      "loss: 2.237341  [57600/60000]\n",
      "loss: 1.829764  [60800/60000]\n",
      "loss: 1.926745  [64000/60000]\n",
      "loss: 1.812204  [67200/60000]\n",
      "loss: 1.805842  [70400/60000]\n",
      "loss: 1.734487  [73600/60000]\n",
      "loss: 2.053882  [76800/60000]\n",
      "loss: 1.817120  [80000/60000]\n",
      "loss: 1.770933  [83200/60000]\n",
      "loss: 1.561904  [86400/60000]\n",
      "loss: 1.951966  [89600/60000]\n",
      "loss: 1.690912  [92800/60000]\n",
      "loss: 1.443573  [96000/60000]\n",
      "loss: 1.751086  [99200/60000]\n",
      "loss: 1.436838  [102400/60000]\n",
      "loss: 1.890158  [105600/60000]\n",
      "loss: 1.470697  [108800/60000]\n",
      "loss: 1.692335  [112000/60000]\n",
      "loss: 1.433727  [115200/60000]\n",
      "loss: 1.658145  [118400/60000]\n",
      "loss: 1.609619  [121600/60000]\n",
      "loss: 1.658309  [124800/60000]\n",
      "loss: 1.779144  [128000/60000]\n",
      "loss: 1.724269  [131200/60000]\n",
      "loss: 1.821589  [134400/60000]\n",
      "loss: 1.898777  [137600/60000]\n",
      "loss: 2.041705  [140800/60000]\n",
      "loss: 1.737718  [144000/60000]\n",
      "loss: 1.214277  [147200/60000]\n",
      "loss: 1.561655  [150400/60000]\n",
      "loss: 2.220496  [153600/60000]\n",
      "loss: 1.298568  [156800/60000]\n",
      "loss: 1.589420  [160000/60000]\n",
      "loss: 1.356715  [163200/60000]\n",
      "loss: 1.596502  [166400/60000]\n",
      "loss: 1.397718  [169600/60000]\n",
      "loss: 1.407816  [172800/60000]\n",
      "loss: 1.497053  [176000/60000]\n",
      "loss: 1.846875  [179200/60000]\n"
     ]
    }
   ],
   "source": [
    "net = Net(hidden_layer_size=16)\n",
    "sgd = nn.Optimizer(net.parameters(), lr=0.01)\n",
    "sgd.zero_grad()\n",
    "losses32 = []\n",
    "BATCH_SIZE = 32\n",
    "data = nn.DataLoader([img_train, label_train], shuffle=True, batch_size=BATCH_SIZE)\n",
    "batch = 0\n",
    "size = len(img_train)\n",
    "for epochs in range(3):\n",
    "    for data_train in data:\n",
    "        sgd.zero_grad()\n",
    "        img = data_train[0]\n",
    "        label = data_train[1]\n",
    "        output = net(img)\n",
    "        loss = nn.functional.cross_entropy_loss(output, label) + net.l2normalization()\n",
    "        loss.backward()\n",
    "        sgd.step()\n",
    "        batch += 1\n",
    "        losses32.append(loss.item())\n",
    "        if batch % 100 == 0:\n",
    "            print(f\"loss: {loss:>7f}  [{batch * BATCH_SIZE:>5d}/{size:>5d}]\")"
   ]
  },
  {
   "cell_type": "code",
   "execution_count": 6,
   "metadata": {},
   "outputs": [
    {
     "data": {
      "text/plain": [
       "Text(0, 0.5, 'Loss')"
      ]
     },
     "execution_count": 6,
     "metadata": {},
     "output_type": "execute_result"
    },
    {
     "data": {
      "image/png": "[encoded data removed]",
      "text/plain": [
       "<Figure size 1000x600 with 1 Axes>"
      ]
     },
     "metadata": {},
     "output_type": "display_data"
    }
   ],
   "source": [
    "import matplotlib.pyplot as plt\n",
    "\n",
    "# 设置样式为 'ggplot'\n",
    "plt.style.use('ggplot')\n",
    "\n",
    "# 创建一个新的图像，并设置其大小\n",
    "plt.figure(figsize=(10, 6))\n",
    "\n",
    "# 绘制损失值，设置线的宽度为 1\n",
    "plt.plot(losses32[5:], linewidth=0.5)\n",
    "\n",
    "# 设置图像的标题和坐标轴标签\n",
    "plt.title('Training Loss')\n",
    "plt.xlabel('Batch')\n",
    "plt.ylabel('Loss')"
   ]
  },
  {
   "cell_type": "code",
   "execution_count": 7,
   "metadata": {},
   "outputs": [],
   "source": [
    "import numpy as np\n",
    "np.save('losses16.npy', losses32)"
   ]
  },
  {
   "cell_type": "code",
   "execution_count": 8,
   "metadata": {},
   "outputs": [
    {
     "name": "stdout",
     "output_type": "stream",
     "text": [
      "loss: 25.394917  [ 3200/60000]\n",
      "loss: 19.806436  [ 6400/60000]\n",
      "loss: 19.239892  [ 9600/60000]\n",
      "loss: 12.869013  [12800/60000]\n",
      "loss: 11.972123  [16000/60000]\n",
      "loss: 12.312352  [19200/60000]\n",
      "loss: 9.941101  [22400/60000]\n",
      "loss: 10.019858  [25600/60000]\n",
      "loss: 12.968446  [28800/60000]\n",
      "loss: 7.833062  [32000/60000]\n",
      "loss: 9.241407  [35200/60000]\n",
      "loss: 7.656447  [38400/60000]\n",
      "loss: 6.895662  [41600/60000]\n",
      "loss: 9.117019  [44800/60000]\n",
      "loss: 6.411404  [48000/60000]\n",
      "loss: 5.932874  [51200/60000]\n",
      "loss: 5.726713  [54400/60000]\n",
      "loss: 3.600673  [57600/60000]\n",
      "loss: 4.182485  [60800/60000]\n",
      "loss: 5.425649  [64000/60000]\n",
      "loss: 4.674970  [67200/60000]\n",
      "loss: 3.574562  [70400/60000]\n",
      "loss: 3.982446  [73600/60000]\n",
      "loss: 4.246972  [76800/60000]\n",
      "loss: 5.072057  [80000/60000]\n",
      "loss: 2.484225  [83200/60000]\n",
      "loss: 4.641489  [86400/60000]\n",
      "loss: 3.112912  [89600/60000]\n",
      "loss: 2.793296  [92800/60000]\n",
      "loss: 2.947848  [96000/60000]\n",
      "loss: 2.632940  [99200/60000]\n",
      "loss: 3.517249  [102400/60000]\n",
      "loss: 2.686054  [105600/60000]\n",
      "loss: 2.351744  [108800/60000]\n",
      "loss: 3.038943  [112000/60000]\n",
      "loss: 2.330043  [115200/60000]\n",
      "loss: 2.589381  [118400/60000]\n",
      "loss: 2.093716  [121600/60000]\n",
      "loss: 2.496588  [124800/60000]\n",
      "loss: 2.259049  [128000/60000]\n",
      "loss: 2.419030  [131200/60000]\n",
      "loss: 3.377823  [134400/60000]\n",
      "loss: 2.193701  [137600/60000]\n",
      "loss: 2.909014  [140800/60000]\n",
      "loss: 2.598403  [144000/60000]\n",
      "loss: 2.025022  [147200/60000]\n",
      "loss: 2.099239  [150400/60000]\n",
      "loss: 2.217367  [153600/60000]\n",
      "loss: 2.175486  [156800/60000]\n",
      "loss: 2.465760  [160000/60000]\n",
      "loss: 2.686552  [163200/60000]\n",
      "loss: 1.832762  [166400/60000]\n",
      "loss: 1.961890  [169600/60000]\n",
      "loss: 1.984482  [172800/60000]\n",
      "loss: 2.079064  [176000/60000]\n",
      "loss: 2.256464  [179200/60000]\n"
     ]
    }
   ],
   "source": [
    "net = Net(hidden_layer_size=16)\n",
    "sgd = nn.Optimizer(net.parameters(), lr=0.001)\n",
    "sgd.zero_grad()\n",
    "losses32 = []\n",
    "BATCH_SIZE = 32\n",
    "data = nn.DataLoader([img_train, label_train], shuffle=True, batch_size=BATCH_SIZE)\n",
    "batch = 0\n",
    "size = len(img_train)\n",
    "for epochs in range(3):\n",
    "    for data_train in data:\n",
    "        sgd.zero_grad()\n",
    "        img = data_train[0]\n",
    "        label = data_train[1]\n",
    "        output = net(img)\n",
    "        loss = nn.functional.cross_entropy_loss(output, label) + net.l2normalization()\n",
    "        loss.backward()\n",
    "        sgd.step()\n",
    "        batch += 1\n",
    "        losses32.append(loss.item())\n",
    "        if batch % 100 == 0:\n",
    "            print(f\"loss: {loss:>7f}  [{batch * BATCH_SIZE:>5d}/{size:>5d}]\")\n"
   ]
  },
  {
   "cell_type": "code",
   "execution_count": 9,
   "metadata": {},
   "outputs": [],
   "source": [
    "np.save('losses16-1e-3lr.npy', losses32)"
   ]
  }
 ],
 "metadata": {
  "kernelspec": {
   "display_name": "Python 3 (ipykernel)",
   "language": "python",
   "name": "python3"
  },
  "language_info": {
   "codemirror_mode": {
    "name": "ipython",
    "version": 3
   },
   "file_extension": ".py",
   "mimetype": "text/x-python",
   "name": "python",
   "nbconvert_exporter": "python",
   "pygments_lexer": "ipython3",
   "version": "3.10.6"
  }
 },
 "nbformat": 4,
 "nbformat_minor": 2
}
